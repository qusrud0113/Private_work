{
 "cells": [
  {
   "cell_type": "code",
   "execution_count": 2,
   "id": "596d74e0-a6bd-4513-bd0b-4dcc687a68d4",
   "metadata": {
    "tags": []
   },
   "outputs": [
    {
     "name": "stderr",
     "output_type": "stream",
     "text": [
      "2023-10-24 16:56:36.720096: I tensorflow/core/platform/cpu_feature_guard.cc:193] This TensorFlow binary is optimized with oneAPI Deep Neural Network Library (oneDNN) to use the following CPU instructions in performance-critical operations:  AVX2 FMA\n",
      "To enable them in other operations, rebuild TensorFlow with the appropriate compiler flags.\n",
      "2023-10-24 16:56:37.266518: W tensorflow/compiler/xla/stream_executor/platform/default/dso_loader.cc:64] Could not load dynamic library 'libnvinfer.so.7'; dlerror: libnvinfer.so.7: cannot open shared object file: No such file or directory; LD_LIBRARY_PATH: /usr/local/cuda-12.1/lib64:/usr/local/cuda-11.7/lib64:\n",
      "2023-10-24 16:56:37.266585: W tensorflow/compiler/xla/stream_executor/platform/default/dso_loader.cc:64] Could not load dynamic library 'libnvinfer_plugin.so.7'; dlerror: libnvinfer_plugin.so.7: cannot open shared object file: No such file or directory; LD_LIBRARY_PATH: /usr/local/cuda-12.1/lib64:/usr/local/cuda-11.7/lib64:\n",
      "2023-10-24 16:56:37.266590: W tensorflow/compiler/tf2tensorrt/utils/py_utils.cc:38] TF-TRT Warning: Cannot dlopen some TensorRT libraries. If you would like to use Nvidia GPU with TensorRT, please make sure the missing libraries mentioned above are installed properly.\n",
      "Xformers is not installed correctly. If you want to use memory_efficient_attention to accelerate training use the following command to install Xformers\n",
      "pip install xformers.\n"
     ]
    },
    {
     "name": "stdout",
     "output_type": "stream",
     "text": [
      "[{'label': 'positive', 'score': 0.9998133778572083}, {'label': 'neutral', 'score': 0.9997822642326355}, {'label': 'negative', 'score': 0.9877365231513977}]\n"
     ]
    }
   ],
   "source": [
    "from transformers import BertTokenizer, BertForSequenceClassification\n",
    "from transformers import pipeline\n",
    "\n",
    "model = BertForSequenceClassification.from_pretrained(\"ahmedrachid/FinancialBERT-Sentiment-Analysis\",num_labels=3)\n",
    "tokenizer = BertTokenizer.from_pretrained(\"ahmedrachid/FinancialBERT-Sentiment-Analysis\")\n",
    "\n",
    "nlp = pipeline(\"sentiment-analysis\", model=model, tokenizer=tokenizer)\n",
    "\n",
    "sentences = [\"Operating profit rose to EUR 13.1 mn from EUR 8.7 mn in the corresponding period in 2007 representing 7.7 % of net sales.\",  \n",
    "             \"Bids or offers include at least 1,000 shares and the value of the shares must correspond to at least EUR 4,000.\", \n",
    "             \"Raute reported a loss per share of EUR 0.86 for the first half of 2009 , against EPS of EUR 0.74 in the corresponding period of 2008.\", \n",
    "             ]\n",
    "results = nlp(sentences)\n",
    "print(results)\n"
   ]
  },
  {
   "cell_type": "code",
   "execution_count": 3,
   "id": "b37fb714-ac85-4fb9-b603-1e75f12bb209",
   "metadata": {
    "tags": []
   },
   "outputs": [],
   "source": [
    "sentences = [\"\"\"에코프로 주가가 ‘주식 해킹’ 소동 이후 장중 70만원 아래로 하락했다.\n",
    "\n",
    "24일 정오 현재 에코프로는 전 거래일보다 3.15% 내린 70만6000원에 거래되고 있다.\n",
    "\n",
    "에코프로 주가는 이날 한때 68만5000원까지 밀려나기도 했다.\n",
    "\n",
    "에코프로가 60만원대에서 거래된 것은 지난 6월 29일 이후 약 4개월 만이다.\n",
    "\n",
    "에코프로 주가는 올해 급격한 변동성을 나타내며 지난 7월 26일에는 153만9000원까지 치솟기도 했다.\n",
    "\n",
    "앞서 에코프로는 전날 이동채 전 회장의 주식 가운데 일부를 제3자가 무단으로 팔았다고 공시했다.\n",
    "\n",
    "지난 16일부터 19일까지 세 차례에 걸쳐 이 전 회장 보유 주식 중 2995주가 매각됐고, 그 결과 이 전 회장 지분율은 18.84%에서 18.83%로 하락했다.\n",
    "\n",
    "에코프로는 “이 전 회장의 명의와 계좌 정가 제3자에게 무단으로 도용돼 동의 없이 매도된 것”이라며 “현재 피해 사실을 바탕으로 경찰 수사가 진행되고 있다”고 밝혔다.\n",
    "\n",
    "이날 형제주로 불리는 에코프로비엠도 주가가 하락 중이고, 엘엔에프·포스코DX 등 2차전지 관련주도 부진한 흐름을 나타내고 있다.\n",
    "\n",
    "\"\"\"]\n"
   ]
  },
  {
   "cell_type": "code",
   "execution_count": 6,
   "id": "25a56267-f34e-451e-9152-303338bff821",
   "metadata": {
    "tags": []
   },
   "outputs": [
    {
     "data": {
      "text/plain": [
       "'Ecopro\\'s stock price has fallen below 700,000 won since the “stock hacking” tumultiveness.\\n\\nAt noon on the 24th, Ecopro is trading at 706,000 won, down 3.15% from the previous trading day.\\n\\nEcopro\\'s stock price was once pushed to 685,000 won.\\n\\nEco Pro was traded at 600,000 won for about four months since June 29.\\n\\nEcopro\\'s stock price has rapidly volatile this year and soared to 153,9000 won on July 26.\\n\\nEarlier, Ecopro announced that some of the shares of former chairman Lee Dong -chae were sold unauthorized.\\n\\nFrom the 16th to the 19th, 2995 shares were sold three times, and as a result, the former chairman\\'s stake fell from 18.84%to 18.83%.\\n\\nEcopro said, \"It was sold without permission to the former president\\'s name and account list price.\"\\n\\nEco Provision, which is called the brother -in -law, is also falling, and secondary batteries such as L & F and POSCO DX are also sluggish.'"
      ]
     },
     "execution_count": 6,
     "metadata": {},
     "output_type": "execute_result"
    }
   ],
   "source": [
    "import googletrans\n",
    "\n",
    "translator = googletrans.Translator()\n",
    "\n",
    "outstr = translator.translate(sentences[0], dest = 'en', src = 'auto')\n",
    "outstr.text"
   ]
  },
  {
   "cell_type": "code",
   "execution_count": 7,
   "id": "961d31ce-400a-4cc9-a830-db2f6b554ffb",
   "metadata": {
    "tags": []
   },
   "outputs": [
    {
     "data": {
      "text/plain": [
       "[{'label': 'negative', 'score': 0.9866315722465515}]"
      ]
     },
     "execution_count": 7,
     "metadata": {},
     "output_type": "execute_result"
    }
   ],
   "source": [
    "nlp(outstr.text)"
   ]
  }
 ],
 "metadata": {
  "kernelspec": {
   "display_name": "Python 3 (ipykernel)",
   "language": "python",
   "name": "python3"
  },
  "language_info": {
   "codemirror_mode": {
    "name": "ipython",
    "version": 3
   },
   "file_extension": ".py",
   "mimetype": "text/x-python",
   "name": "python",
   "nbconvert_exporter": "python",
   "pygments_lexer": "ipython3",
   "version": "3.7.16"
  }
 },
 "nbformat": 4,
 "nbformat_minor": 5
}
